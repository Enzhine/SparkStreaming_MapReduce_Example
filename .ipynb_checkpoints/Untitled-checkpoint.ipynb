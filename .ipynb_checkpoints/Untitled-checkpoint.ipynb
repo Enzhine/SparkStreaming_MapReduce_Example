{
 "cells": [
  {
   "cell_type": "code",
   "execution_count": null,
   "id": "2834520b-1cdd-46b2-8695-dcf4833f225c",
   "metadata": {},
   "outputs": [
    {
     "name": "stderr",
     "output_type": "stream",
     "text": [
      "C:\\Users\\Enzhine\\miniconda3\\envs\\sparked\\Lib\\site-packages\\pyspark\\streaming\\context.py:72: FutureWarning: DStream is deprecated as of Spark 3.4.0. Migrate to Structured Streaming.\n",
      "  warnings.warn(\n"
     ]
    },
    {
     "name": "stdout",
     "output_type": "stream",
     "text": [
      "-------------------------------------------\n",
      "Time: 2025-03-09 17:18:00\n",
      "-------------------------------------------\n",
      "\n"
     ]
    }
   ],
   "source": [
    "hdfs = 'hdfs://localhost:8020'\n",
    "\n",
    "from pyspark import SparkContext\n",
    "from pyspark.streaming import StreamingContext\n",
    "import os\n",
    "\n",
    "os.environ['PYSPARK_PYTHON'] = 'python'\n",
    "\n",
    "from pyspark.sql import SparkSession\n",
    "\n",
    "ctx = SparkContext(master=\"local[2]\", appName=\"AskRedditWordCounter\")\n",
    "ctx._jsc.hadoopConfiguration().set(\"dfs.client.use.datanode.hostname\", \"true\")\n",
    "spark = SparkSession(ctx)\n",
    "\n",
    "batchDuration = 30\n",
    "ctx_stream = StreamingContext(ctx, batchDuration)\n",
    "\n",
    "ip = 'localhost'\n",
    "port = 9999\n",
    "\n",
    "d_stream = ctx_stream.socketTextStream(ip, port)\n",
    "\n",
    "import string\n",
    "\n",
    "\n",
    "def prepare(line: str) -> str:\n",
    "    return line.translate({key: ' ' for key in string.punctuation + '?!()$@/-'}).lower()\n",
    "\n",
    "\n",
    "def word_splitter(line: str) -> list[str]:\n",
    "    return line.split(' ')\n",
    "\n",
    "from pyspark import RDD\n",
    "\n",
    "def rdd_handler(time_, rdd: RDD):\n",
    "    print(f'RDD handled at {time_}')\n",
    "    if rdd.isEmpty():\n",
    "        return\n",
    "    df = rdd.toDF(schema=[\"word\", \"count\"])\n",
    "    df.write.format('parquet').save(hdfs + f'{time_}_askReddit.parquet')\n",
    "\n",
    "def rdd_handler(time_, rdd):\n",
    "    print(f'RDD handled at {time_}')\n",
    "    if rdd.isEmpty():\n",
    "        return\n",
    "    df = spark.createDataFrame(rdd.collect(), schema=[\"line\"])\n",
    "    df.write.format('json').mode('overwrite').save(hdfs + '/top5_words.json')\n",
    "\n",
    "def rdds_summator(new_values, old_state):\n",
    "    print(f'RDD state updated')\n",
    "    return sum(new_values) + (old_state or 0)\n",
    "\n",
    "windowed_lines = d_stream.window(120, 60)\n",
    "\n",
    "# Подсчет слов за интервал времени\n",
    "top5_words = windowed_lines.flatMap(lambda line: word_splitter(prepare(line))) \\\n",
    "                        .map(lambda word: (word, 1)) \\\n",
    "                        .reduceByKey(lambda x, y: x + y) \\\n",
    "                        .transform(lambda rdd: rdd.sortBy(lambda x: -x[1]).take(5)) \\\n",
    "                        # .map(lambda x: x[0]) \\\n",
    "                        \n",
    "\n",
    "# Получение топ-5 слов\n",
    "# top5_words = words.transform(lambda rdd: rdd.sortBy(lambda x: -x[1]).take(5)) \\\n",
    "#                   .map(lambda x: x[0]) \\\n",
    "#                   .collect()\n",
    "\n",
    "# Фильтрация строк по топ-5 словам\n",
    "# filtered_lines = windowed_lines.filter(lambda line: any(word in line for word in top5_words))\n",
    "\n",
    "# Сохранение отфильтрованных строк\n",
    "# filtered_lines.foreachRDD(rdd_handler)\n",
    "\n",
    "# Запуск StreamingContext\n",
    "ctx_stream.start()\n",
    "ctx_stream.awaitTermination()"
   ]
  }
 ],
 "metadata": {
  "kernelspec": {
   "display_name": "Python 3 (ipykernel)",
   "language": "python",
   "name": "python3"
  },
  "language_info": {
   "codemirror_mode": {
    "name": "ipython",
    "version": 3
   },
   "file_extension": ".py",
   "mimetype": "text/x-python",
   "name": "python",
   "nbconvert_exporter": "python",
   "pygments_lexer": "ipython3",
   "version": "3.11.11"
  }
 },
 "nbformat": 4,
 "nbformat_minor": 5
}
